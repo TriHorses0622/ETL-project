{
 "cells": [
  {
   "cell_type": "code",
   "execution_count": 3,
   "metadata": {},
   "outputs": [],
   "source": [
    "import pymongo\n",
    "from splinter import Browser\n",
    "from bs4 import BeautifulSoup\n",
    "import os\n",
    "from datetime import datetime\n",
    "import pymongo\n",
    "import platform"
   ]
  },
  {
   "cell_type": "code",
   "execution_count": 21,
   "metadata": {},
   "outputs": [],
   "source": [
    "def init_browser():\n",
    "        executable_path = {\n",
    "            'executable_path': '/Users/zhongyuliu/Downloads/chromedriver'}\n",
    "        return Browser('chrome', **executable_path, headless=False)\n",
    "def get_html(browser, url):\n",
    "    browser.visit(url)\n",
    "    html = browser.html\n",
    "    return html\n",
    "def get_sections(html):\n",
    "    soup = BeautifulSoup(html, \"html.parser\")\n",
    "    sections = soup.find(\n",
    "        'section', class_='section_main')\n",
    "    return sections\n",
    "def scrape_titles(sections):\n",
    "    titles = sections.find_all('a',class_='title')\n",
    "    title_list = []\n",
    "    for title in titles:\n",
    "        title = title.text.strip()\n",
    "        title_list.append(title)\n",
    "    return title_list\n",
    "def scrape_prices(sections):\n",
    "    prices = sections.find_all('a',class_='price')\n",
    "    price_list = []\n",
    "    for price in prices:\n",
    "        price = price.text.strip()\n",
    "        price_list.append(price)\n",
    "    return price_list\n",
    "def access_db(dbname, collectionname):\n",
    "    conn = 'mongodb://localhost:27017'\n",
    "    client = pymongo.MongoClient(conn)\n",
    "    db = client[dbname]\n",
    "    collection = db[collectionname]\n",
    "    return db, collection\n",
    "def insert(collection,sections):\n",
    "    db, collection = access_db('swappa', carrier)\n",
    "    title_list=scrape_titles(sections)\n",
    "    price_list=scrape_prices(sections)\n",
    "    dictionary = dict(zip(title_list,price_list))\n",
    "    collection.insert_one(dictionary)\n",
    "def main():\n",
    "    db, collection = access_db('swappa', carrier)\n",
    "    browser = init_browser()\n",
    "    url = base_url + carrier + '/phones'\n",
    "    html = get_html(browser,url)\n",
    "    sections = get_sections(html)\n",
    "    scrape_titles(sections)\n",
    "    scrape_prices(sections)\n",
    "    insert(carrier,sections)\n",
    "    return "
   ]
  },
  {
   "cell_type": "code",
   "execution_count": 34,
   "metadata": {},
   "outputs": [],
   "source": [
    "base_url = 'https://swappa.com/mobile/'\n",
    "carrier = 'sprint'\n",
    "main()"
   ]
  },
  {
   "cell_type": "code",
   "execution_count": 35,
   "metadata": {},
   "outputs": [],
   "source": [
    "base_url = 'https://swappa.com/mobile/'\n",
    "carrier = 'att'\n",
    "main()"
   ]
  },
  {
   "cell_type": "code",
   "execution_count": null,
   "metadata": {},
   "outputs": [],
   "source": [
    "base_url = 'https://swappa.com/mobile/'\n",
    "carrier = 't-mobile'\n",
    "main()"
   ]
  },
  {
   "cell_type": "code",
   "execution_count": null,
   "metadata": {},
   "outputs": [],
   "source": [
    "base_url = 'https://swappa.com/mobile/'\n",
    "carrier = 'verizon'\n",
    "main()"
   ]
  },
  {
   "cell_type": "code",
   "execution_count": null,
   "metadata": {},
   "outputs": [],
   "source": [
    "base_url = 'https://swappa.com/mobile/'\n",
    "carrier = 'unlocked'\n",
    "main()"
   ]
  },
  {
   "cell_type": "code",
   "execution_count": 4,
   "metadata": {},
   "outputs": [],
   "source": [
    "conn = 'mongodb://localhost:27017'\n",
    "client = pymongo.MongoClient(conn)\n",
    "db = client.swappa\n",
    "collection = db.info"
   ]
  },
  {
   "cell_type": "code",
   "execution_count": 9,
   "metadata": {},
   "outputs": [
    {
     "name": "stdout",
     "output_type": "stream",
     "text": [
      "{'_id': ObjectId('5dae4af78ca2b7e62e54d8db'), 'Apple iPhone 7': '$169+', 'Apple iPhone 6S': '$114+', 'Apple iPhone Xs Max': '$640+', 'Apple iPhone SE': '$70+', 'Apple iPhone X': '$425+', 'Apple iPhone 7 Plus': '$259+', 'Apple iPhone 8': '$294+', 'Apple iPhone 8 Plus': '$355+', 'Apple iPhone 6S Plus': '$159+', 'Apple iPhone Xs': '$515+', 'Apple iPhone 6': '$88+', 'Samsung Galaxy S6': '$79+', 'Apple iPhone Xr': '$460+', 'Samsung Galaxy S10 Plus': '$525+', 'Samsung Galaxy Note 9': '$376+', 'Apple iPhone 5C': '$35+', 'Samsung Galaxy S8': '$166+', 'Apple iPhone 6 Plus': '$142+', 'Google Pixel 2': '$180+', 'LG G7 ThinQ': '$162+', 'Google Pixel 2 XL': '$160+', 'Google Pixel 3': '$279+', 'Moto X4': '$105+', 'Samsung Galaxy Note 10 Plus': '$775+', 'OnePlus 5T': '$170+', 'Samsung Galaxy S10e': '$404+', 'Samsung Galaxy S7': '$92+', 'Google Pixel 3 XL': '$345+', 'Google Pixel 3a XL': '$305+', 'Samsung Galaxy Note 8': '$238+', 'Moto G6': '$90+', 'OnePlus 5': '$128+', 'Nexus 6': '$60+', 'Samsung Galaxy S10': '$449+', 'Samsung Galaxy S7 Edge': '$122+', 'Moto G7 Play': '$104+', 'Google Pixel 3a': '$284+', 'Google Pixel XL': '$89+', 'LG G6': '$90+', 'Samsung Galaxy S9': '$235+', 'Samsung Galaxy S9 Plus': '$264+', 'Google Nexus 5': '$45+', 'Huawei P20 Pro': '$288+', 'Samsung Galaxy Note 10': '$650+', 'Moto G7': '$170+', 'Blu Vivo One Plus': '$80+', 'Essential PH-1': '$145+', 'OnePlus 6': '$270+', 'OnePlus 6T': '$295+', 'Samsung Galaxy S8 Plus': '$207+', 'Apple iPhone 11 Pro Max': '$1235+', 'Blackberry Key2 LE': '$275+', 'Google Pixel': '$89+', 'Huawei Mate 20 Pro': '$395+', 'Moto G7 Power': '$169+', 'Huawei Mate SE': '$85+', 'Moto Z3 Play': '$170+', 'Nexus 6P': '$80+', 'Samsung Galaxy Note 5': '$182+', 'HTC U11': '$175+'}\n"
     ]
    }
   ],
   "source": [
    "results = db.unlocked.find()\n",
    "for result in results:\n",
    "    print(result)"
   ]
  },
  {
   "cell_type": "code",
   "execution_count": 16,
   "metadata": {},
   "outputs": [
    {
     "data": {
      "text/plain": [
       "{'_id': ObjectId('5dae4af78ca2b7e62e54d8db'),\n",
       " 'Apple iPhone 7': '$169+',\n",
       " 'Apple iPhone 6S': '$114+',\n",
       " 'Apple iPhone Xs Max': '$640+',\n",
       " 'Apple iPhone SE': '$70+',\n",
       " 'Apple iPhone X': '$425+',\n",
       " 'Apple iPhone 7 Plus': '$259+',\n",
       " 'Apple iPhone 8': '$294+',\n",
       " 'Apple iPhone 8 Plus': '$355+',\n",
       " 'Apple iPhone 6S Plus': '$159+',\n",
       " 'Apple iPhone Xs': '$515+',\n",
       " 'Apple iPhone 6': '$88+',\n",
       " 'Samsung Galaxy S6': '$79+',\n",
       " 'Apple iPhone Xr': '$460+',\n",
       " 'Samsung Galaxy S10 Plus': '$525+',\n",
       " 'Samsung Galaxy Note 9': '$376+',\n",
       " 'Apple iPhone 5C': '$35+',\n",
       " 'Samsung Galaxy S8': '$166+',\n",
       " 'Apple iPhone 6 Plus': '$142+',\n",
       " 'Google Pixel 2': '$180+',\n",
       " 'LG G7 ThinQ': '$162+',\n",
       " 'Google Pixel 2 XL': '$160+',\n",
       " 'Google Pixel 3': '$279+',\n",
       " 'Moto X4': '$105+',\n",
       " 'Samsung Galaxy Note 10 Plus': '$775+',\n",
       " 'OnePlus 5T': '$170+',\n",
       " 'Samsung Galaxy S10e': '$404+',\n",
       " 'Samsung Galaxy S7': '$92+',\n",
       " 'Google Pixel 3 XL': '$345+',\n",
       " 'Google Pixel 3a XL': '$305+',\n",
       " 'Samsung Galaxy Note 8': '$238+',\n",
       " 'Moto G6': '$90+',\n",
       " 'OnePlus 5': '$128+',\n",
       " 'Nexus 6': '$60+',\n",
       " 'Samsung Galaxy S10': '$449+',\n",
       " 'Samsung Galaxy S7 Edge': '$122+',\n",
       " 'Moto G7 Play': '$104+',\n",
       " 'Google Pixel 3a': '$284+',\n",
       " 'Google Pixel XL': '$89+',\n",
       " 'LG G6': '$90+',\n",
       " 'Samsung Galaxy S9': '$235+',\n",
       " 'Samsung Galaxy S9 Plus': '$264+',\n",
       " 'Google Nexus 5': '$45+',\n",
       " 'Huawei P20 Pro': '$288+',\n",
       " 'Samsung Galaxy Note 10': '$650+',\n",
       " 'Moto G7': '$170+',\n",
       " 'Blu Vivo One Plus': '$80+',\n",
       " 'Essential PH-1': '$145+',\n",
       " 'OnePlus 6': '$270+',\n",
       " 'OnePlus 6T': '$295+',\n",
       " 'Samsung Galaxy S8 Plus': '$207+',\n",
       " 'Apple iPhone 11 Pro Max': '$1235+',\n",
       " 'Blackberry Key2 LE': '$275+',\n",
       " 'Google Pixel': '$89+',\n",
       " 'Huawei Mate 20 Pro': '$395+',\n",
       " 'Moto G7 Power': '$169+',\n",
       " 'Huawei Mate SE': '$85+',\n",
       " 'Moto Z3 Play': '$170+',\n",
       " 'Nexus 6P': '$80+',\n",
       " 'Samsung Galaxy Note 5': '$182+',\n",
       " 'HTC U11': '$175+'}"
      ]
     },
     "execution_count": 16,
     "metadata": {},
     "output_type": "execute_result"
    }
   ],
   "source": [
    "db.unlocked.find_one()"
   ]
  },
  {
   "cell_type": "code",
   "execution_count": 18,
   "metadata": {},
   "outputs": [],
   "source": [
    "df_t = pd.DataFrame([db.unlocked.find_one()]).transpose().reset_index()\n",
    "df_t.columns = ['Phone', 'Price']"
   ]
  },
  {
   "cell_type": "code",
   "execution_count": 19,
   "metadata": {},
   "outputs": [
    {
     "data": {
      "text/html": [
       "<div>\n",
       "<style scoped>\n",
       "    .dataframe tbody tr th:only-of-type {\n",
       "        vertical-align: middle;\n",
       "    }\n",
       "\n",
       "    .dataframe tbody tr th {\n",
       "        vertical-align: top;\n",
       "    }\n",
       "\n",
       "    .dataframe thead th {\n",
       "        text-align: right;\n",
       "    }\n",
       "</style>\n",
       "<table border=\"1\" class=\"dataframe\">\n",
       "  <thead>\n",
       "    <tr style=\"text-align: right;\">\n",
       "      <th></th>\n",
       "      <th>Phone</th>\n",
       "      <th>Price</th>\n",
       "    </tr>\n",
       "  </thead>\n",
       "  <tbody>\n",
       "    <tr>\n",
       "      <th>0</th>\n",
       "      <td>Apple iPhone 11 Pro Max</td>\n",
       "      <td>$1235+</td>\n",
       "    </tr>\n",
       "    <tr>\n",
       "      <th>1</th>\n",
       "      <td>Apple iPhone 5C</td>\n",
       "      <td>$35+</td>\n",
       "    </tr>\n",
       "    <tr>\n",
       "      <th>2</th>\n",
       "      <td>Apple iPhone 6</td>\n",
       "      <td>$88+</td>\n",
       "    </tr>\n",
       "    <tr>\n",
       "      <th>3</th>\n",
       "      <td>Apple iPhone 6 Plus</td>\n",
       "      <td>$142+</td>\n",
       "    </tr>\n",
       "    <tr>\n",
       "      <th>4</th>\n",
       "      <td>Apple iPhone 6S</td>\n",
       "      <td>$114+</td>\n",
       "    </tr>\n",
       "  </tbody>\n",
       "</table>\n",
       "</div>"
      ],
      "text/plain": [
       "                     Phone   Price\n",
       "0  Apple iPhone 11 Pro Max  $1235+\n",
       "1          Apple iPhone 5C    $35+\n",
       "2           Apple iPhone 6    $88+\n",
       "3      Apple iPhone 6 Plus   $142+\n",
       "4          Apple iPhone 6S   $114+"
      ]
     },
     "execution_count": 19,
     "metadata": {},
     "output_type": "execute_result"
    }
   ],
   "source": [
    "df_t.head()"
   ]
  },
  {
   "cell_type": "code",
   "execution_count": null,
   "metadata": {},
   "outputs": [],
   "source": []
  }
 ],
 "metadata": {
  "kernelspec": {
   "display_name": "Python 3",
   "language": "python",
   "name": "python3"
  },
  "language_info": {
   "codemirror_mode": {
    "name": "ipython",
    "version": 3
   },
   "file_extension": ".py",
   "mimetype": "text/x-python",
   "name": "python",
   "nbconvert_exporter": "python",
   "pygments_lexer": "ipython3",
   "version": "3.7.4"
  }
 },
 "nbformat": 4,
 "nbformat_minor": 2
}
